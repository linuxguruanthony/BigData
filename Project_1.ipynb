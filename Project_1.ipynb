{
 "cells": [
  {
   "cell_type": "markdown",
   "id": "16c82143",
   "metadata": {},
   "source": [
    "# Spark Connected \n"
   ]
  },
  {
   "cell_type": "code",
   "execution_count": 1,
   "id": "a48ef646",
   "metadata": {},
   "outputs": [
    {
     "data": {
      "text/plain": [
       "Intitializing Scala interpreter ..."
      ]
     },
     "metadata": {},
     "output_type": "display_data"
    },
    {
     "data": {
      "text/plain": [
       "Spark Web UI available at http://localhost:4040\n",
       "SparkContext available as 'sc' (version = 3.3.0, master = local[*], app id = local-1657549264073)\n",
       "SparkSession available as 'spark'\n"
      ]
     },
     "metadata": {},
     "output_type": "display_data"
    },
    {
     "name": "stdout",
     "output_type": "stream",
     "text": [
      "22/07/11 10:21:00 WARN NativeCodeLoader: Unable to load native-hadoop library for your platform... using builtin-java classes where applicable\n",
      "Spark is connected\n"
     ]
    }
   ],
   "source": [
    "println(\"Spark is connected\")\n"
   ]
  },
  {
   "cell_type": "markdown",
   "id": "304fa1c9",
   "metadata": {},
   "source": [
    "# Hadoop Connected"
   ]
  },
  {
   "cell_type": "code",
   "execution_count": 3,
   "id": "8419589f",
   "metadata": {},
   "outputs": [
    {
     "name": "stdout",
     "output_type": "stream",
     "text": [
      "hdfs://localhost:9000/....... \n"
     ]
    }
   ],
   "source": [
    "try {\n",
    "    var Olympic_History = spark.read.csv(\"hdfs://localhost:9000/user/input/athlete_events.csv\")\n",
    "    var Countries = spark.read.csv(\"hdfs://localhost:9000/user/input/noc_regions.csv\")\n",
    "} catch {\n",
    "    case e: Throwable => println(\"Hadoop cant connect locally\")\n",
    "}\n",
    "finally {\n",
    "    println(\"hdfs://localhost:9000/....... \")\n",
    "}"
   ]
  },
  {
   "cell_type": "markdown",
   "id": "de8b6f64",
   "metadata": {},
   "source": [
    "# Closer Look at the data"
   ]
  },
  {
   "cell_type": "code",
   "execution_count": 4,
   "id": "29cdd5b3",
   "metadata": {},
   "outputs": [
    {
     "name": "stdout",
     "output_type": "stream",
     "text": [
      "+---+--------------+--------------------+\n",
      "|_c0|           _c1|                 _c2|\n",
      "+---+--------------+--------------------+\n",
      "|NOC|        region|               notes|\n",
      "|AFG|   Afghanistan|                null|\n",
      "|AHO|       Curacao|Netherlands Antilles|\n",
      "|ALB|       Albania|                null|\n",
      "|ALG|       Algeria|                null|\n",
      "|AND|       Andorra|                null|\n",
      "|ANG|        Angola|                null|\n",
      "|ANT|       Antigua| Antigua and Barbuda|\n",
      "|ANZ|     Australia|         Australasia|\n",
      "|ARG|     Argentina|                null|\n",
      "|ARM|       Armenia|                null|\n",
      "|ARU|         Aruba|                null|\n",
      "|ASA|American Samoa|                null|\n",
      "|AUS|     Australia|                null|\n",
      "|AUT|       Austria|                null|\n",
      "|AZE|    Azerbaijan|                null|\n",
      "|BAH|       Bahamas|                null|\n",
      "|BAN|    Bangladesh|                null|\n",
      "|BAR|      Barbados|                null|\n",
      "|BDI|       Burundi|                null|\n",
      "+---+--------------+--------------------+\n",
      "only showing top 20 rows\n",
      "\n"
     ]
    },
    {
     "data": {
      "text/plain": [
       "Olympic_History: org.apache.spark.sql.DataFrame = [_c0: string, _c1: string ... 13 more fields]\n",
       "Countries: org.apache.spark.sql.DataFrame = [_c0: string, _c1: string ... 1 more field]\n"
      ]
     },
     "execution_count": 4,
     "metadata": {},
     "output_type": "execute_result"
    }
   ],
   "source": [
    "var Olympic_History = spark.read.csv(\"hdfs://localhost:9000/user/input/athlete_events.csv\")\n",
    "var Countries = spark.read.csv(\"hdfs://localhost:9000/user/input/noc_regions.csv\")\n",
    "Countries.show"
   ]
  },
  {
   "cell_type": "code",
   "execution_count": 16,
   "id": "f1b52061",
   "metadata": {},
   "outputs": [
    {
     "name": "stdout",
     "output_type": "stream",
     "text": [
      "+---+--------------------+---+---+------+------+--------------+---+-----------+----+------+-----------+--------------------+--------------------+-----+\n",
      "|_c0|                 _c1|_c2|_c3|   _c4|   _c5|           _c6|_c7|        _c8| _c9|  _c10|       _c11|                _c12|                _c13| _c14|\n",
      "+---+--------------------+---+---+------+------+--------------+---+-----------+----+------+-----------+--------------------+--------------------+-----+\n",
      "| ID|                Name|Sex|Age|Height|Weight|          Team|NOC|      Games|Year|Season|       City|               Sport|               Event|Medal|\n",
      "|  1|           A Dijiang|  M| 24|   180|    80|         China|CHN|1992 Summer|1992|Summer|  Barcelona|          Basketball|Basketball Men's ...|   NA|\n",
      "|  2|            A Lamusi|  M| 23|   170|    60|         China|CHN|2012 Summer|2012|Summer|     London|                Judo|Judo Men's Extra-...|   NA|\n",
      "|  3| Gunnar Nielsen Aaby|  M| 24|    NA|    NA|       Denmark|DEN|1920 Summer|1920|Summer|  Antwerpen|            Football|Football Men's Fo...|   NA|\n",
      "|  4|Edgar Lindenau Aabye|  M| 34|    NA|    NA|Denmark/Sweden|DEN|1900 Summer|1900|Summer|      Paris|          Tug-Of-War|Tug-Of-War Men's ...| Gold|\n",
      "|  5|Christine Jacoba ...|  F| 21|   185|    82|   Netherlands|NED|1988 Winter|1988|Winter|    Calgary|       Speed Skating|Speed Skating Wom...|   NA|\n",
      "|  5|Christine Jacoba ...|  F| 21|   185|    82|   Netherlands|NED|1988 Winter|1988|Winter|    Calgary|       Speed Skating|Speed Skating Wom...|   NA|\n",
      "|  5|Christine Jacoba ...|  F| 25|   185|    82|   Netherlands|NED|1992 Winter|1992|Winter|Albertville|       Speed Skating|Speed Skating Wom...|   NA|\n",
      "|  5|Christine Jacoba ...|  F| 25|   185|    82|   Netherlands|NED|1992 Winter|1992|Winter|Albertville|       Speed Skating|Speed Skating Wom...|   NA|\n",
      "|  5|Christine Jacoba ...|  F| 27|   185|    82|   Netherlands|NED|1994 Winter|1994|Winter|Lillehammer|       Speed Skating|Speed Skating Wom...|   NA|\n",
      "|  5|Christine Jacoba ...|  F| 27|   185|    82|   Netherlands|NED|1994 Winter|1994|Winter|Lillehammer|       Speed Skating|Speed Skating Wom...|   NA|\n",
      "|  6|     Per Knut Aaland|  M| 31|   188|    75| United States|USA|1992 Winter|1992|Winter|Albertville|Cross Country Skiing|Cross Country Ski...|   NA|\n",
      "|  6|     Per Knut Aaland|  M| 31|   188|    75| United States|USA|1992 Winter|1992|Winter|Albertville|Cross Country Skiing|Cross Country Ski...|   NA|\n",
      "|  6|     Per Knut Aaland|  M| 31|   188|    75| United States|USA|1992 Winter|1992|Winter|Albertville|Cross Country Skiing|Cross Country Ski...|   NA|\n",
      "|  6|     Per Knut Aaland|  M| 31|   188|    75| United States|USA|1992 Winter|1992|Winter|Albertville|Cross Country Skiing|Cross Country Ski...|   NA|\n",
      "|  6|     Per Knut Aaland|  M| 33|   188|    75| United States|USA|1994 Winter|1994|Winter|Lillehammer|Cross Country Skiing|Cross Country Ski...|   NA|\n",
      "|  6|     Per Knut Aaland|  M| 33|   188|    75| United States|USA|1994 Winter|1994|Winter|Lillehammer|Cross Country Skiing|Cross Country Ski...|   NA|\n",
      "|  6|     Per Knut Aaland|  M| 33|   188|    75| United States|USA|1994 Winter|1994|Winter|Lillehammer|Cross Country Skiing|Cross Country Ski...|   NA|\n",
      "|  6|     Per Knut Aaland|  M| 33|   188|    75| United States|USA|1994 Winter|1994|Winter|Lillehammer|Cross Country Skiing|Cross Country Ski...|   NA|\n",
      "|  7|        John Aalberg|  M| 31|   183|    72| United States|USA|1992 Winter|1992|Winter|Albertville|Cross Country Skiing|Cross Country Ski...|   NA|\n",
      "+---+--------------------+---+---+------+------+--------------+---+-----------+----+------+-----------+--------------------+--------------------+-----+\n",
      "only showing top 20 rows\n",
      "\n"
     ]
    }
   ],
   "source": [
    "Olympic_History.show"
   ]
  },
  {
   "cell_type": "markdown",
   "id": "597fe57e",
   "metadata": {},
   "source": [
    "# How many official Olympic games have been held total?"
   ]
  },
  {
   "cell_type": "code",
   "execution_count": 4,
   "id": "464d5876",
   "metadata": {},
   "outputs": [
    {
     "name": "stdout",
     "output_type": "stream",
     "text": [
      "+-------------------+\n",
      "|total_olympic_games|\n",
      "+-------------------+\n",
      "|                 88|\n",
      "+-------------------+\n",
      "\n"
     ]
    }
   ],
   "source": [
    "Olympic_History.createOrReplaceTempView(\"Olympic_History\")\n",
    "Countries.createOrReplaceTempView(\"Countries\")\n",
    "spark.sql(\"SELECT count(distinct _c9 ) AS total_olympic_games FROM olympic_history; \").show()"
   ]
  },
  {
   "cell_type": "markdown",
   "id": "e518b661",
   "metadata": {
    "scrolled": true
   },
   "source": [
    "# What City's hosted the last 5 games? (no 2018 & 2020)"
   ]
  },
  {
   "cell_type": "code",
   "execution_count": 17,
   "id": "5c4bfbb9",
   "metadata": {
    "scrolled": true
   },
   "outputs": [
    {
     "name": "stdout",
     "output_type": "stream",
     "text": [
      "+--------------+----+\n",
      "|     host_city|year|\n",
      "+--------------+----+\n",
      "|       Beijing|2008|\n",
      "|     Vancouver|2010|\n",
      "|        London|2012|\n",
      "|         Sochi|2014|\n",
      "|Rio de Janeiro|2016|\n",
      "+--------------+----+\n",
      "\n"
     ]
    }
   ],
   "source": [
    "spark.sql(\"SELECT distinct _c11 host_city, _c9 year  from Olympic_History where _c9 = '2010' or _c9= '2012' or _c9 = '2014' or _c9= '2016' or _c9 = '2008' or _c9 = '2018' order by 2; \").show()"
   ]
  },
  {
   "cell_type": "markdown",
   "id": "bc8060af",
   "metadata": {},
   "source": [
    "# In what years did America gold a medal in Hockey?\n"
   ]
  },
  {
   "cell_type": "code",
   "execution_count": 18,
   "id": "da6b576e",
   "metadata": {},
   "outputs": [
    {
     "name": "stdout",
     "output_type": "stream",
     "text": [
      "+-------------+------+-----------+----------------------+\n",
      "|         team| sport|Hockey_Gold|total_medals_that_year|\n",
      "+-------------+------+-----------+----------------------+\n",
      "|United States|Hockey|1984 Summer|                    16|\n",
      "|United States|Hockey|1932 Summer|                    12|\n",
      "+-------------+------+-----------+----------------------+\n",
      "\n"
     ]
    }
   ],
   "source": [
    "spark.sql(\"Select _c6 team, _c12 sport, _c8 Hockey_Gold, count(_c6) total_medals_that_year from Olympic_history where _c14 <>'NA' and _c6 = 'United States' and _c12 = 'Hockey' group by 1,2,3 order by 4 desc;\").show()"
   ]
  },
  {
   "cell_type": "markdown",
   "id": "03bb5c04",
   "metadata": {},
   "source": [
    "# How many different types of games have been played in the Olympics?"
   ]
  },
  {
   "cell_type": "code",
   "execution_count": 19,
   "id": "937c3286",
   "metadata": {},
   "outputs": [
    {
     "name": "stdout",
     "output_type": "stream",
     "text": [
      "+------+\n",
      "|events|\n",
      "+------+\n",
      "|   221|\n",
      "+------+\n",
      "\n"
     ]
    }
   ],
   "source": [
    "spark.sql(\"SELECT count(distinct _c14) AS events FROM Olympic_History;\" ).show"
   ]
  },
  {
   "cell_type": "markdown",
   "id": "3bb28fcc",
   "metadata": {},
   "source": [
    "# First official olympics game year?"
   ]
  },
  {
   "cell_type": "code",
   "execution_count": 20,
   "id": "9e016660",
   "metadata": {},
   "outputs": [
    {
     "name": "stdout",
     "output_type": "stream",
     "text": [
      "+--------------+\n",
      "|first_olympics|\n",
      "+--------------+\n",
      "|          1896|\n",
      "+--------------+\n",
      "\n"
     ]
    }
   ],
   "source": [
    "spark.sql(\"SELECT _c9 first_olympics from Olympic_History order by 1 asc limit 1; \").show()"
   ]
  },
  {
   "cell_type": "markdown",
   "id": "5ecf4b69",
   "metadata": {},
   "source": [
    "# Which years did USA not win a Gold medal in Basketball?"
   ]
  },
  {
   "cell_type": "code",
   "execution_count": 21,
   "id": "9ec28d94",
   "metadata": {
    "scrolled": true
   },
   "outputs": [
    {
     "name": "stdout",
     "output_type": "stream",
     "text": [
      "+-------------+----------+----------------------------------------+\n",
      "|         team|     sport|Years_USA_Did_not_win_Gold_in_Basketball|\n",
      "+-------------+----------+----------------------------------------+\n",
      "|United States|Basketball|                             1976 Summer|\n",
      "|United States|Basketball|                             1972 Summer|\n",
      "+-------------+----------+----------------------------------------+\n",
      "\n"
     ]
    }
   ],
   "source": [
    "\n",
    "spark.sql(\"Select _c6 team, _c12 sport, _c8 Years_USA_Did_not_win_Gold_in_Basketball from Olympic_history where _c14 = 'Silver' and _c6 = 'United States' and _c12 = 'Basketball' group by 1,2,3;\").show()"
   ]
  },
  {
   "cell_type": "markdown",
   "id": "78f518a9",
   "metadata": {},
   "source": [
    "# CRUD "
   ]
  },
  {
   "cell_type": "code",
   "execution_count": null,
   "id": "507af5f6",
   "metadata": {},
   "outputs": [],
   "source": [
    "      import java.util.Scanner\n",
    "      val admin = \"Anthony password\"\n",
    "      val line = new Scanner(admin)\n",
    "      val Admin_username = line.next\n",
    "      val Admin_password =  line.next\n",
    "\n",
    "      println(\"Enter new username: \")\n",
    "      var user = scala.io.StdIn.readInt()\n",
    "      println(\"Enter new password: \")\n",
    "      var user_password = scala.io.StdIn.readInt()\n",
    "\n",
    "      var login_attempt = scala.io.StdIn.readInt()\n",
    "      if (login_attempt == Admin_password){\n",
    "        println(\"Do you want to create new user? y/n \")\n",
    "      }\n"
   ]
  },
  {
   "cell_type": "markdown",
   "id": "03112e6f",
   "metadata": {},
   "source": [
    "# Give me name of some country \n",
    "# I will give you years that country won gold"
   ]
  },
  {
   "cell_type": "code",
   "execution_count": null,
   "id": "046cca2c",
   "metadata": {},
   "outputs": [
    {
     "data": {
      "text/plain": [
       "Intitializing Scala interpreter ..."
      ]
     },
     "metadata": {},
     "output_type": "display_data"
    },
    {
     "data": {
      "text/plain": [
       "Spark Web UI available at http://localhost:4040\n",
       "SparkContext available as 'sc' (version = 3.3.0, master = local[*], app id = local-1657552561633)\n",
       "SparkSession available as 'spark'\n"
      ]
     },
     "metadata": {},
     "output_type": "display_data"
    },
    {
     "name": "stdout",
     "output_type": "stream",
     "text": [
      "Name of Country: "
     ]
    }
   ],
   "source": [
    "var name: String = \"\"\n",
    "name = readLine(\"Name of Country: \")\n",
    "spark.sql(s\"select * from Olympic_history where _c14 = 'Gold' and _c6 =$name\").show"
   ]
  },
  {
   "cell_type": "code",
   "execution_count": null,
   "id": "23b952b6",
   "metadata": {},
   "outputs": [],
   "source": [
    "spark.sql(\"select _c6, _c9 from Olympic_history where _c6 = 'Finland' and _c14= 'Gold'order by 2 desc limit 10;\").show\n"
   ]
  },
  {
   "cell_type": "code",
   "execution_count": null,
   "id": "3ac7a330",
   "metadata": {},
   "outputs": [],
   "source": []
  },
  {
   "cell_type": "code",
   "execution_count": null,
   "id": "f94aa108",
   "metadata": {},
   "outputs": [],
   "source": []
  },
  {
   "cell_type": "code",
   "execution_count": null,
   "id": "d7b3f86d",
   "metadata": {},
   "outputs": [],
   "source": []
  },
  {
   "cell_type": "code",
   "execution_count": null,
   "id": "a9637ad6",
   "metadata": {},
   "outputs": [],
   "source": []
  }
 ],
 "metadata": {
  "kernelspec": {
   "display_name": "spylon-kernel",
   "language": "scala",
   "name": "spylon-kernel"
  },
  "language_info": {
   "codemirror_mode": "text/x-scala",
   "file_extension": ".scala",
   "help_links": [
    {
     "text": "MetaKernel Magics",
     "url": "https://metakernel.readthedocs.io/en/latest/source/README.html"
    }
   ],
   "mimetype": "text/x-scala",
   "name": "scala",
   "pygments_lexer": "scala",
   "version": "0.4.1"
  }
 },
 "nbformat": 4,
 "nbformat_minor": 5
}
